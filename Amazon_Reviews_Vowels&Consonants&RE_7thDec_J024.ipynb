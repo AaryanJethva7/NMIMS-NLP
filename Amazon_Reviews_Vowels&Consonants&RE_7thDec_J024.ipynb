{
  "nbformat": 4,
  "nbformat_minor": 0,
  "metadata": {
    "colab": {
      "name": "Amazon Reviews_Vowels&Consonants&RE_7thDec_J024.ipynb",
      "provenance": [],
      "collapsed_sections": [],
      "include_colab_link": true
    },
    "kernelspec": {
      "name": "python3",
      "display_name": "Python 3"
    }
  },
  "cells": [
    {
      "cell_type": "markdown",
      "metadata": {
        "id": "view-in-github",
        "colab_type": "text"
      },
      "source": [
        "<a href=\"https://colab.research.google.com/github/AaryanJethva7/NMIMS-NLP/blob/Class-Work/Amazon_Reviews_Vowels%26Consonants%26RE_7thDec_J024.ipynb\" target=\"_parent\"><img src=\"https://colab.research.google.com/assets/colab-badge.svg\" alt=\"Open In Colab\"/></a>"
      ]
    },
    {
      "cell_type": "code",
      "metadata": {
        "id": "RtyUnxmff93j",
        "colab_type": "code",
        "colab": {}
      },
      "source": [
        "import pandas as pd\n",
        "import gzip\n",
        "\n",
        "df=pd.read_json(\"http://snap.stanford.edu/data/amazon/productGraph/categoryFiles/reviews_Office_Products_5.json.gz\",lines=True)\n",
        " "
      ],
      "execution_count": 0,
      "outputs": []
    },
    {
      "cell_type": "code",
      "metadata": {
        "id": "bQngXn9hho2T",
        "colab_type": "code",
        "outputId": "4b737941-b9c0-4ad7-e564-76dd57b8ef61",
        "colab": {
          "base_uri": "https://localhost:8080/",
          "height": 289
        }
      },
      "source": [
        "df.head()"
      ],
      "execution_count": 2,
      "outputs": [
        {
          "output_type": "execute_result",
          "data": {
            "text/html": [
              "<div>\n",
              "<style scoped>\n",
              "    .dataframe tbody tr th:only-of-type {\n",
              "        vertical-align: middle;\n",
              "    }\n",
              "\n",
              "    .dataframe tbody tr th {\n",
              "        vertical-align: top;\n",
              "    }\n",
              "\n",
              "    .dataframe thead th {\n",
              "        text-align: right;\n",
              "    }\n",
              "</style>\n",
              "<table border=\"1\" class=\"dataframe\">\n",
              "  <thead>\n",
              "    <tr style=\"text-align: right;\">\n",
              "      <th></th>\n",
              "      <th>reviewerID</th>\n",
              "      <th>asin</th>\n",
              "      <th>reviewerName</th>\n",
              "      <th>helpful</th>\n",
              "      <th>reviewText</th>\n",
              "      <th>overall</th>\n",
              "      <th>summary</th>\n",
              "      <th>unixReviewTime</th>\n",
              "      <th>reviewTime</th>\n",
              "    </tr>\n",
              "  </thead>\n",
              "  <tbody>\n",
              "    <tr>\n",
              "      <th>0</th>\n",
              "      <td>A32T2H8150OJLU</td>\n",
              "      <td>B00000JBLH</td>\n",
              "      <td>ARH</td>\n",
              "      <td>[3, 4]</td>\n",
              "      <td>I bought my first HP12C in about 1984 or so, a...</td>\n",
              "      <td>5</td>\n",
              "      <td>A solid performer, and long time friend</td>\n",
              "      <td>1094169600</td>\n",
              "      <td>09 3, 2004</td>\n",
              "    </tr>\n",
              "    <tr>\n",
              "      <th>1</th>\n",
              "      <td>A3MAFS04ZABRGO</td>\n",
              "      <td>B00000JBLH</td>\n",
              "      <td>Let it Be \"Alan\"</td>\n",
              "      <td>[7, 9]</td>\n",
              "      <td>WHY THIS BELATED REVIEW? I feel very obliged t...</td>\n",
              "      <td>5</td>\n",
              "      <td>Price of GOLD is up, so don't bury the golden ...</td>\n",
              "      <td>1197676800</td>\n",
              "      <td>12 15, 2007</td>\n",
              "    </tr>\n",
              "    <tr>\n",
              "      <th>2</th>\n",
              "      <td>A1F1A0QQP2XVH5</td>\n",
              "      <td>B00000JBLH</td>\n",
              "      <td>Mark B</td>\n",
              "      <td>[3, 3]</td>\n",
              "      <td>I have an HP 48GX that has been kicking for mo...</td>\n",
              "      <td>2</td>\n",
              "      <td>Good functionality, but not durable like old HPs</td>\n",
              "      <td>1293840000</td>\n",
              "      <td>01 1, 2011</td>\n",
              "    </tr>\n",
              "    <tr>\n",
              "      <th>3</th>\n",
              "      <td>A49R5DBXXQDE5</td>\n",
              "      <td>B00000JBLH</td>\n",
              "      <td>R. D Johnson</td>\n",
              "      <td>[7, 8]</td>\n",
              "      <td>I've started doing more finance stuff recently...</td>\n",
              "      <td>5</td>\n",
              "      <td>One of the last of an almost extinct species</td>\n",
              "      <td>1145404800</td>\n",
              "      <td>04 19, 2006</td>\n",
              "    </tr>\n",
              "    <tr>\n",
              "      <th>4</th>\n",
              "      <td>A2XRMQA6PJ5ZJ8</td>\n",
              "      <td>B00000JBLH</td>\n",
              "      <td>Roger J. Buffington</td>\n",
              "      <td>[0, 0]</td>\n",
              "      <td>For simple calculations and discounted cash fl...</td>\n",
              "      <td>5</td>\n",
              "      <td>Still the best</td>\n",
              "      <td>1375574400</td>\n",
              "      <td>08 4, 2013</td>\n",
              "    </tr>\n",
              "  </tbody>\n",
              "</table>\n",
              "</div>"
            ],
            "text/plain": [
              "       reviewerID        asin  ... unixReviewTime   reviewTime\n",
              "0  A32T2H8150OJLU  B00000JBLH  ...     1094169600   09 3, 2004\n",
              "1  A3MAFS04ZABRGO  B00000JBLH  ...     1197676800  12 15, 2007\n",
              "2  A1F1A0QQP2XVH5  B00000JBLH  ...     1293840000   01 1, 2011\n",
              "3   A49R5DBXXQDE5  B00000JBLH  ...     1145404800  04 19, 2006\n",
              "4  A2XRMQA6PJ5ZJ8  B00000JBLH  ...     1375574400   08 4, 2013\n",
              "\n",
              "[5 rows x 9 columns]"
            ]
          },
          "metadata": {
            "tags": []
          },
          "execution_count": 2
        }
      ]
    },
    {
      "cell_type": "code",
      "metadata": {
        "id": "0Ws1dLtbm_W-",
        "colab_type": "code",
        "colab": {}
      },
      "source": [
        "vowels=['a','e','i','o','u']"
      ],
      "execution_count": 0,
      "outputs": []
    },
    {
      "cell_type": "code",
      "metadata": {
        "id": "qyfpv5njj69z",
        "colab_type": "code",
        "colab": {}
      },
      "source": [
        "def letter_count(text):\n",
        "  text=text.lower()\n",
        "  words=text.split()\n",
        "  count={'vowels':0,'consonants':0,'totcount':0}\n",
        "  for i in text:    \n",
        "    if i in vowels:       \n",
        "      count['vowels']+=1\n",
        "    else:\n",
        "      if i.isalpha():\n",
        "        count['consonants']+=1\n",
        "    count['totcount']=len(words)\n",
        "  return count\n",
        "    "
      ],
      "execution_count": 0,
      "outputs": []
    },
    {
      "cell_type": "code",
      "metadata": {
        "id": "tHKsI_621nrX",
        "colab_type": "code",
        "colab": {}
      },
      "source": [
        "punctuations = '''!()-[]{};:'\"\\,<>./?@#$%^&*_~'''\n",
        "def punc(str):\n",
        "  no_punct = \"\"\n",
        "  for char in str:\n",
        "    if char not in punctuations:\n",
        "      no_punct = no_punct + char\n",
        "  return no_punct"
      ],
      "execution_count": 0,
      "outputs": []
    },
    {
      "cell_type": "code",
      "metadata": {
        "id": "58ZO9MCfx4kx",
        "colab_type": "code",
        "outputId": "a32a8187-6af6-420d-ff15-c106ce412ca4",
        "colab": {
          "base_uri": "https://localhost:8080/",
          "height": 34
        }
      },
      "source": [
        "punc(df['summary'][0])\n",
        "letter_count(df['summary'][0])"
      ],
      "execution_count": 6,
      "outputs": [
        {
          "output_type": "execute_result",
          "data": {
            "text/plain": [
              "{'consonants': 20, 'totcount': 7, 'vowels': 12}"
            ]
          },
          "metadata": {
            "tags": []
          },
          "execution_count": 6
        }
      ]
    },
    {
      "cell_type": "code",
      "metadata": {
        "id": "zTS1pJne1CKR",
        "colab_type": "code",
        "outputId": "09cd1e97-6391-4d46-aa2c-21aacd0dcdd9",
        "colab": {
          "base_uri": "https://localhost:8080/",
          "height": 34
        }
      },
      "source": [
        "df['summary'][0].lower()"
      ],
      "execution_count": 7,
      "outputs": [
        {
          "output_type": "execute_result",
          "data": {
            "text/plain": [
              "'a solid performer, and long time friend'"
            ]
          },
          "metadata": {
            "tags": []
          },
          "execution_count": 7
        }
      ]
    },
    {
      "cell_type": "code",
      "metadata": {
        "id": "JIe3xp1Vsf2l",
        "colab_type": "code",
        "colab": {}
      },
      "source": [
        "df['reviewText_vowel_consonant_count']=df['reviewText'].apply(punc)\n",
        "df['summary_vowel_consonant_count']=df['summary'].apply(punc)\n",
        "df['reviewText_vowel_consonant_count']=df['reviewText'].apply(letter_count)\n",
        "df['summary_vowel_consonant_count']=df['summary'].apply(letter_count)"
      ],
      "execution_count": 0,
      "outputs": []
    },
    {
      "cell_type": "code",
      "metadata": {
        "id": "LkbwT0frZYlW",
        "colab_type": "code",
        "outputId": "cfeb6f19-0e41-433b-f11a-a99df25e522a",
        "colab": {
          "base_uri": "https://localhost:8080/",
          "height": 1000
        }
      },
      "source": [
        "df.head(10)"
      ],
      "execution_count": 9,
      "outputs": [
        {
          "output_type": "execute_result",
          "data": {
            "text/html": [
              "<div>\n",
              "<style scoped>\n",
              "    .dataframe tbody tr th:only-of-type {\n",
              "        vertical-align: middle;\n",
              "    }\n",
              "\n",
              "    .dataframe tbody tr th {\n",
              "        vertical-align: top;\n",
              "    }\n",
              "\n",
              "    .dataframe thead th {\n",
              "        text-align: right;\n",
              "    }\n",
              "</style>\n",
              "<table border=\"1\" class=\"dataframe\">\n",
              "  <thead>\n",
              "    <tr style=\"text-align: right;\">\n",
              "      <th></th>\n",
              "      <th>reviewerID</th>\n",
              "      <th>asin</th>\n",
              "      <th>reviewerName</th>\n",
              "      <th>helpful</th>\n",
              "      <th>reviewText</th>\n",
              "      <th>overall</th>\n",
              "      <th>summary</th>\n",
              "      <th>unixReviewTime</th>\n",
              "      <th>reviewTime</th>\n",
              "      <th>reviewText_vowel_consonant_count</th>\n",
              "      <th>summary_vowel_consonant_count</th>\n",
              "    </tr>\n",
              "  </thead>\n",
              "  <tbody>\n",
              "    <tr>\n",
              "      <th>0</th>\n",
              "      <td>A32T2H8150OJLU</td>\n",
              "      <td>B00000JBLH</td>\n",
              "      <td>ARH</td>\n",
              "      <td>[3, 4]</td>\n",
              "      <td>I bought my first HP12C in about 1984 or so, a...</td>\n",
              "      <td>5</td>\n",
              "      <td>A solid performer, and long time friend</td>\n",
              "      <td>1094169600</td>\n",
              "      <td>09 3, 2004</td>\n",
              "      <td>{'vowels': 279, 'consonants': 437, 'totcount':...</td>\n",
              "      <td>{'vowels': 12, 'consonants': 20, 'totcount': 7}</td>\n",
              "    </tr>\n",
              "    <tr>\n",
              "      <th>1</th>\n",
              "      <td>A3MAFS04ZABRGO</td>\n",
              "      <td>B00000JBLH</td>\n",
              "      <td>Let it Be \"Alan\"</td>\n",
              "      <td>[7, 9]</td>\n",
              "      <td>WHY THIS BELATED REVIEW? I feel very obliged t...</td>\n",
              "      <td>5</td>\n",
              "      <td>Price of GOLD is up, so don't bury the golden ...</td>\n",
              "      <td>1197676800</td>\n",
              "      <td>12 15, 2007</td>\n",
              "      <td>{'vowels': 1504, 'consonants': 2685, 'totcount...</td>\n",
              "      <td>{'vowels': 14, 'consonants': 31, 'totcount': 13}</td>\n",
              "    </tr>\n",
              "    <tr>\n",
              "      <th>2</th>\n",
              "      <td>A1F1A0QQP2XVH5</td>\n",
              "      <td>B00000JBLH</td>\n",
              "      <td>Mark B</td>\n",
              "      <td>[3, 3]</td>\n",
              "      <td>I have an HP 48GX that has been kicking for mo...</td>\n",
              "      <td>2</td>\n",
              "      <td>Good functionality, but not durable like old HPs</td>\n",
              "      <td>1293840000</td>\n",
              "      <td>01 1, 2011</td>\n",
              "      <td>{'vowels': 134, 'consonants': 235, 'totcount':...</td>\n",
              "      <td>{'vowels': 15, 'consonants': 25, 'totcount': 8}</td>\n",
              "    </tr>\n",
              "    <tr>\n",
              "      <th>3</th>\n",
              "      <td>A49R5DBXXQDE5</td>\n",
              "      <td>B00000JBLH</td>\n",
              "      <td>R. D Johnson</td>\n",
              "      <td>[7, 8]</td>\n",
              "      <td>I've started doing more finance stuff recently...</td>\n",
              "      <td>5</td>\n",
              "      <td>One of the last of an almost extinct species</td>\n",
              "      <td>1145404800</td>\n",
              "      <td>04 19, 2006</td>\n",
              "      <td>{'vowels': 1089, 'consonants': 1775, 'totcount...</td>\n",
              "      <td>{'vowels': 14, 'consonants': 22, 'totcount': 9}</td>\n",
              "    </tr>\n",
              "    <tr>\n",
              "      <th>4</th>\n",
              "      <td>A2XRMQA6PJ5ZJ8</td>\n",
              "      <td>B00000JBLH</td>\n",
              "      <td>Roger J. Buffington</td>\n",
              "      <td>[0, 0]</td>\n",
              "      <td>For simple calculations and discounted cash fl...</td>\n",
              "      <td>5</td>\n",
              "      <td>Still the best</td>\n",
              "      <td>1375574400</td>\n",
              "      <td>08 4, 2013</td>\n",
              "      <td>{'vowels': 208, 'consonants': 338, 'totcount':...</td>\n",
              "      <td>{'vowels': 3, 'consonants': 9, 'totcount': 3}</td>\n",
              "    </tr>\n",
              "    <tr>\n",
              "      <th>5</th>\n",
              "      <td>A2JFOHC9W629IE</td>\n",
              "      <td>B00000JBLH</td>\n",
              "      <td>scott_from_dallas</td>\n",
              "      <td>[10, 12]</td>\n",
              "      <td>While I don't have an MBA, it's hard to believ...</td>\n",
              "      <td>5</td>\n",
              "      <td>Every MBA student and grad should get one</td>\n",
              "      <td>1011744000</td>\n",
              "      <td>01 23, 2002</td>\n",
              "      <td>{'vowels': 304, 'consonants': 468, 'totcount':...</td>\n",
              "      <td>{'vowels': 12, 'consonants': 22, 'totcount': 8}</td>\n",
              "    </tr>\n",
              "    <tr>\n",
              "      <th>6</th>\n",
              "      <td>A38NELQT98S4H8</td>\n",
              "      <td>B00000JBLH</td>\n",
              "      <td>W. B. Halper</td>\n",
              "      <td>[3, 4]</td>\n",
              "      <td>I've had an HP 12C ever since they were first ...</td>\n",
              "      <td>5</td>\n",
              "      <td>A workhorse of a calculator</td>\n",
              "      <td>1168992000</td>\n",
              "      <td>01 17, 2007</td>\n",
              "      <td>{'vowels': 313, 'consonants': 495, 'totcount':...</td>\n",
              "      <td>{'vowels': 10, 'consonants': 13, 'totcount': 5}</td>\n",
              "    </tr>\n",
              "    <tr>\n",
              "      <th>7</th>\n",
              "      <td>AA8M6331NI1EN</td>\n",
              "      <td>B00000JBLH</td>\n",
              "      <td>ZombieMom</td>\n",
              "      <td>[0, 0]</td>\n",
              "      <td>Bought this for my boss because he lost his.  ...</td>\n",
              "      <td>5</td>\n",
              "      <td>Fast shipping &amp; great price for this awesome c...</td>\n",
              "      <td>1384387200</td>\n",
              "      <td>11 14, 2013</td>\n",
              "      <td>{'vowels': 69, 'consonants': 124, 'totcount': 52}</td>\n",
              "      <td>{'vowels': 17, 'consonants': 29, 'totcount': 9}</td>\n",
              "    </tr>\n",
              "    <tr>\n",
              "      <th>8</th>\n",
              "      <td>A25C2M3QF9G7OQ</td>\n",
              "      <td>B00000JBLU</td>\n",
              "      <td>Comdet</td>\n",
              "      <td>[3, 3]</td>\n",
              "      <td>This is a well-designed, simple calculator tha...</td>\n",
              "      <td>5</td>\n",
              "      <td>Nice design, works well, great value</td>\n",
              "      <td>1291680000</td>\n",
              "      <td>12 7, 2010</td>\n",
              "      <td>{'vowels': 243, 'consonants': 410, 'totcount':...</td>\n",
              "      <td>{'vowels': 11, 'consonants': 18, 'totcount': 6}</td>\n",
              "    </tr>\n",
              "    <tr>\n",
              "      <th>9</th>\n",
              "      <td>A1RTVWTWZSIC94</td>\n",
              "      <td>B00000JBLU</td>\n",
              "      <td>Hb \"Black Beauty\"</td>\n",
              "      <td>[0, 0]</td>\n",
              "      <td>I love this calculator, big numbers and calcul...</td>\n",
              "      <td>5</td>\n",
              "      <td>Love It!!!!!!!!!</td>\n",
              "      <td>1385942400</td>\n",
              "      <td>12 2, 2013</td>\n",
              "      <td>{'vowels': 36, 'consonants': 50, 'totcount': 20}</td>\n",
              "      <td>{'vowels': 3, 'consonants': 3, 'totcount': 2}</td>\n",
              "    </tr>\n",
              "  </tbody>\n",
              "</table>\n",
              "</div>"
            ],
            "text/plain": [
              "       reviewerID  ...                     summary_vowel_consonant_count\n",
              "0  A32T2H8150OJLU  ...   {'vowels': 12, 'consonants': 20, 'totcount': 7}\n",
              "1  A3MAFS04ZABRGO  ...  {'vowels': 14, 'consonants': 31, 'totcount': 13}\n",
              "2  A1F1A0QQP2XVH5  ...   {'vowels': 15, 'consonants': 25, 'totcount': 8}\n",
              "3   A49R5DBXXQDE5  ...   {'vowels': 14, 'consonants': 22, 'totcount': 9}\n",
              "4  A2XRMQA6PJ5ZJ8  ...     {'vowels': 3, 'consonants': 9, 'totcount': 3}\n",
              "5  A2JFOHC9W629IE  ...   {'vowels': 12, 'consonants': 22, 'totcount': 8}\n",
              "6  A38NELQT98S4H8  ...   {'vowels': 10, 'consonants': 13, 'totcount': 5}\n",
              "7   AA8M6331NI1EN  ...   {'vowels': 17, 'consonants': 29, 'totcount': 9}\n",
              "8  A25C2M3QF9G7OQ  ...   {'vowels': 11, 'consonants': 18, 'totcount': 6}\n",
              "9  A1RTVWTWZSIC94  ...     {'vowels': 3, 'consonants': 3, 'totcount': 2}\n",
              "\n",
              "[10 rows x 11 columns]"
            ]
          },
          "metadata": {
            "tags": []
          },
          "execution_count": 9
        }
      ]
    },
    {
      "cell_type": "code",
      "metadata": {
        "id": "4sOsWhBwZerw",
        "colab_type": "code",
        "colab": {}
      },
      "source": [
        "import re"
      ],
      "execution_count": 0,
      "outputs": []
    },
    {
      "cell_type": "code",
      "metadata": {
        "id": "8GJAJ5j5Zs26",
        "colab_type": "code",
        "colab": {}
      },
      "source": [
        "def word_finder(word):\n",
        "  word=re.sub('[^a-zA-Z]',' ',word)\n",
        "  list_b=re.findall(r'\\b[bB]\\w+',word)\n",
        "  list_g=re.findall(r'\\w+[Gg]\\b',word)\n",
        "  return (list(set().union(list_b,list_g)))"
      ],
      "execution_count": 0,
      "outputs": []
    },
    {
      "cell_type": "code",
      "metadata": {
        "id": "Y6BuVp0jgj7z",
        "colab_type": "code",
        "colab": {}
      },
      "source": [
        "def BG(word):\n",
        "  word=re.sub('[^a-zA-Z]',' ',word)\n",
        "  words=re.findall(r'\\b[bB]\\w+[Gg]\\b',word)\n",
        "  return words"
      ],
      "execution_count": 0,
      "outputs": []
    },
    {
      "cell_type": "code",
      "metadata": {
        "id": "98cWpZXx8zSY",
        "colab_type": "code",
        "colab": {}
      },
      "source": [
        "df['reviewText_b_or_g']=df['reviewText'].apply(word_finder)\n",
        "df['summary_b_or_g']=df['summary'].apply(word_finder)\n",
        "df['reviewText_b_and_g']=df['reviewText'].apply(BG)\n",
        "df['summary_b_and_g']=df['summary'].apply(BG)"
      ],
      "execution_count": 0,
      "outputs": []
    },
    {
      "cell_type": "code",
      "metadata": {
        "id": "JrjPY_L7_2zX",
        "colab_type": "code",
        "outputId": "8c4329b7-59aa-4cdf-f1c2-2a05177f5ea4",
        "colab": {
          "base_uri": "https://localhost:8080/",
          "height": 581
        }
      },
      "source": [
        "df.head()"
      ],
      "execution_count": 14,
      "outputs": [
        {
          "output_type": "execute_result",
          "data": {
            "text/html": [
              "<div>\n",
              "<style scoped>\n",
              "    .dataframe tbody tr th:only-of-type {\n",
              "        vertical-align: middle;\n",
              "    }\n",
              "\n",
              "    .dataframe tbody tr th {\n",
              "        vertical-align: top;\n",
              "    }\n",
              "\n",
              "    .dataframe thead th {\n",
              "        text-align: right;\n",
              "    }\n",
              "</style>\n",
              "<table border=\"1\" class=\"dataframe\">\n",
              "  <thead>\n",
              "    <tr style=\"text-align: right;\">\n",
              "      <th></th>\n",
              "      <th>reviewerID</th>\n",
              "      <th>asin</th>\n",
              "      <th>reviewerName</th>\n",
              "      <th>helpful</th>\n",
              "      <th>reviewText</th>\n",
              "      <th>overall</th>\n",
              "      <th>summary</th>\n",
              "      <th>unixReviewTime</th>\n",
              "      <th>reviewTime</th>\n",
              "      <th>reviewText_vowel_consonant_count</th>\n",
              "      <th>summary_vowel_consonant_count</th>\n",
              "      <th>reviewText_b_or_g</th>\n",
              "      <th>summary_b_or_g</th>\n",
              "      <th>reviewText_b_and_g</th>\n",
              "      <th>summary_b_and_g</th>\n",
              "    </tr>\n",
              "  </thead>\n",
              "  <tbody>\n",
              "    <tr>\n",
              "      <th>0</th>\n",
              "      <td>A32T2H8150OJLU</td>\n",
              "      <td>B00000JBLH</td>\n",
              "      <td>ARH</td>\n",
              "      <td>[3, 4]</td>\n",
              "      <td>I bought my first HP12C in about 1984 or so, a...</td>\n",
              "      <td>5</td>\n",
              "      <td>A solid performer, and long time friend</td>\n",
              "      <td>1094169600</td>\n",
              "      <td>09 3, 2004</td>\n",
              "      <td>{'vowels': 279, 'consonants': 437, 'totcount':...</td>\n",
              "      <td>{'vowels': 12, 'consonants': 20, 'totcount': 7}</td>\n",
              "      <td>[coming, by, running, be, but, basic, using, b...</td>\n",
              "      <td>[long]</td>\n",
              "      <td>[]</td>\n",
              "      <td>[]</td>\n",
              "    </tr>\n",
              "    <tr>\n",
              "      <th>1</th>\n",
              "      <td>A3MAFS04ZABRGO</td>\n",
              "      <td>B00000JBLH</td>\n",
              "      <td>Let it Be \"Alan\"</td>\n",
              "      <td>[7, 9]</td>\n",
              "      <td>WHY THIS BELATED REVIEW? I feel very obliged t...</td>\n",
              "      <td>5</td>\n",
              "      <td>Price of GOLD is up, so don't bury the golden ...</td>\n",
              "      <td>1197676800</td>\n",
              "      <td>12 15, 2007</td>\n",
              "      <td>{'vowels': 1504, 'consonants': 2685, 'totcount...</td>\n",
              "      <td>{'vowels': 14, 'consonants': 31, 'totcount': 13}</td>\n",
              "      <td>[brandname, bII, praising, boy, BENCHMARKING, ...</td>\n",
              "      <td>[bury]</td>\n",
              "      <td>[burying, being, BENCHMARKING]</td>\n",
              "      <td>[]</td>\n",
              "    </tr>\n",
              "    <tr>\n",
              "      <th>2</th>\n",
              "      <td>A1F1A0QQP2XVH5</td>\n",
              "      <td>B00000JBLH</td>\n",
              "      <td>Mark B</td>\n",
              "      <td>[3, 3]</td>\n",
              "      <td>I have an HP 48GX that has been kicking for mo...</td>\n",
              "      <td>2</td>\n",
              "      <td>Good functionality, but not durable like old HPs</td>\n",
              "      <td>1293840000</td>\n",
              "      <td>01 1, 2011</td>\n",
              "      <td>{'vowels': 134, 'consonants': 235, 'totcount':...</td>\n",
              "      <td>{'vowels': 15, 'consonants': 25, 'totcount': 8}</td>\n",
              "      <td>[But, kicking, been, giving, working]</td>\n",
              "      <td>[but]</td>\n",
              "      <td>[]</td>\n",
              "      <td>[]</td>\n",
              "    </tr>\n",
              "    <tr>\n",
              "      <th>3</th>\n",
              "      <td>A49R5DBXXQDE5</td>\n",
              "      <td>B00000JBLH</td>\n",
              "      <td>R. D Johnson</td>\n",
              "      <td>[7, 8]</td>\n",
              "      <td>I've started doing more finance stuff recently...</td>\n",
              "      <td>5</td>\n",
              "      <td>One of the last of an almost extinct species</td>\n",
              "      <td>1145404800</td>\n",
              "      <td>04 19, 2006</td>\n",
              "      <td>{'vowels': 1089, 'consonants': 1775, 'totcount...</td>\n",
              "      <td>{'vowels': 14, 'consonants': 22, 'totcount': 9}</td>\n",
              "      <td>[solving, beats, Buy, going, taking, Black, bl...</td>\n",
              "      <td>[]</td>\n",
              "      <td>[]</td>\n",
              "      <td>[]</td>\n",
              "    </tr>\n",
              "    <tr>\n",
              "      <th>4</th>\n",
              "      <td>A2XRMQA6PJ5ZJ8</td>\n",
              "      <td>B00000JBLH</td>\n",
              "      <td>Roger J. Buffington</td>\n",
              "      <td>[0, 0]</td>\n",
              "      <td>For simple calculations and discounted cash fl...</td>\n",
              "      <td>5</td>\n",
              "      <td>Still the best</td>\n",
              "      <td>1375574400</td>\n",
              "      <td>08 4, 2013</td>\n",
              "      <td>{'vowels': 208, 'consonants': 338, 'totcount':...</td>\n",
              "      <td>{'vowels': 3, 'consonants': 9, 'totcount': 3}</td>\n",
              "      <td>[brackets, purchasing, but, business, practici...</td>\n",
              "      <td>[best]</td>\n",
              "      <td>[]</td>\n",
              "      <td>[]</td>\n",
              "    </tr>\n",
              "  </tbody>\n",
              "</table>\n",
              "</div>"
            ],
            "text/plain": [
              "       reviewerID        asin  ...              reviewText_b_and_g summary_b_and_g\n",
              "0  A32T2H8150OJLU  B00000JBLH  ...                              []              []\n",
              "1  A3MAFS04ZABRGO  B00000JBLH  ...  [burying, being, BENCHMARKING]              []\n",
              "2  A1F1A0QQP2XVH5  B00000JBLH  ...                              []              []\n",
              "3   A49R5DBXXQDE5  B00000JBLH  ...                              []              []\n",
              "4  A2XRMQA6PJ5ZJ8  B00000JBLH  ...                              []              []\n",
              "\n",
              "[5 rows x 15 columns]"
            ]
          },
          "metadata": {
            "tags": []
          },
          "execution_count": 14
        }
      ]
    },
    {
      "cell_type": "code",
      "metadata": {
        "id": "A2LDibmqN6al",
        "colab_type": "code",
        "colab": {}
      },
      "source": [
        ""
      ],
      "execution_count": 0,
      "outputs": []
    }
  ]
}