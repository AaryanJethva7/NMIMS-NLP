{
  "nbformat": 4,
  "nbformat_minor": 0,
  "metadata": {
    "colab": {
      "name": "NLP Lecture 1 Prime Nos .ipynb",
      "provenance": [],
      "collapsed_sections": [],
      "include_colab_link": true
    },
    "kernelspec": {
      "name": "python3",
      "display_name": "Python 3"
    }
  },
  "cells": [
    {
      "cell_type": "markdown",
      "metadata": {
        "id": "view-in-github",
        "colab_type": "text"
      },
      "source": [
        "<a href=\"https://colab.research.google.com/github/AaryanJethva7/NMIMS-NLP/blob/Class-Work/NLP_Lecture_1_Prime_Nos_.ipynb\" target=\"_parent\"><img src=\"https://colab.research.google.com/assets/colab-badge.svg\" alt=\"Open In Colab\"/></a>"
      ]
    },
    {
      "cell_type": "code",
      "metadata": {
        "id": "M5hYOdXjTShm",
        "colab_type": "code",
        "colab": {}
      },
      "source": [
        "import numpy as np\n",
        "import pandas as pd"
      ],
      "execution_count": 0,
      "outputs": []
    },
    {
      "cell_type": "code",
      "metadata": {
        "id": "RXYVA7DmUwia",
        "colab_type": "code",
        "colab": {}
      },
      "source": [
        "p_list=[]"
      ],
      "execution_count": 0,
      "outputs": []
    },
    {
      "cell_type": "code",
      "metadata": {
        "id": "IYeb6Hm7VVWa",
        "colab_type": "code",
        "colab": {}
      },
      "source": [
        "p_list.append(2)"
      ],
      "execution_count": 0,
      "outputs": []
    },
    {
      "cell_type": "code",
      "metadata": {
        "id": "EiNw-vlXb9vp",
        "colab_type": "code",
        "outputId": "6e7ac38f-3d0a-4312-abf8-58f3d9e8a707",
        "colab": {
          "base_uri": "https://localhost:8080/",
          "height": 34
        }
      },
      "source": [
        "p_list"
      ],
      "execution_count": 0,
      "outputs": [
        {
          "output_type": "execute_result",
          "data": {
            "text/plain": [
              "[2]"
            ]
          },
          "metadata": {
            "tags": []
          },
          "execution_count": 54
        }
      ]
    },
    {
      "cell_type": "code",
      "metadata": {
        "id": "o8o7F-2OTkvK",
        "colab_type": "code",
        "colab": {}
      },
      "source": [
        "def prime_nos(n):\n",
        "  num=3\n",
        "  count=1\n",
        "  while (count<=n):\n",
        "    if is_prime(num):\n",
        "      p_list.append(num)\n",
        "      count+=1\n",
        "    num+=2  \n",
        "  print(n,\"th prime no is: \",p_list[n-1])\n",
        "\n",
        "def is_prime(num):\n",
        "  factor=2\n",
        "  while(factor*factor<=num):\n",
        "    if num%factor==0:\n",
        "      return False\n",
        "    factor+=1\n",
        "  return True\n",
        "\n"
      ],
      "execution_count": 0,
      "outputs": []
    },
    {
      "cell_type": "code",
      "metadata": {
        "id": "q3j1CodlWKYt",
        "colab_type": "code",
        "outputId": "08426896-67e1-4a1c-f07f-194da3f23bfc",
        "colab": {
          "base_uri": "https://localhost:8080/",
          "height": 68
        }
      },
      "source": [
        "n=int(input(\"Enter the value of n: \\n\"))\n",
        "prime_nos(n)"
      ],
      "execution_count": 0,
      "outputs": [
        {
          "output_type": "stream",
          "text": [
            "Enter the value of n: \n",
            "5\n",
            "5 th prime no is:  11\n"
          ],
          "name": "stdout"
        }
      ]
    },
    {
      "cell_type": "code",
      "metadata": {
        "id": "i76lOTKUXWUT",
        "colab_type": "code",
        "colab": {}
      },
      "source": [
        ""
      ],
      "execution_count": 0,
      "outputs": []
    }
  ]
}
